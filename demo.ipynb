{
 "cells": [
  {
   "cell_type": "code",
   "execution_count": 1,
   "metadata": {},
   "outputs": [],
   "source": [
    "from cleaning_all_data import get_initial_data, get_heads, remove_extra_spaces, get_full_name, get_grades, get_school_and_details, get_details, get_school, join_data, join_all_data\n",
    "from cleaning_columns import transform_fourth_column, transform_4_last_columns, cleaning_summary"
   ]
  },
  {
   "cell_type": "markdown",
   "metadata": {},
   "source": [
    "# Mostrando Cada Funcion\n",
    "Se tomara como ejemplo un solo url para ir viendo el paso\n",
    "a paso de la transformacion de los datos"
   ]
  },
  {
   "cell_type": "markdown",
   "metadata": {},
   "source": [
    "## Get Initial Data"
   ]
  },
  {
   "cell_type": "code",
   "execution_count": 2,
   "metadata": {},
   "outputs": [
    {
     "data": {
      "text/html": [
       "<div>\n",
       "<style scoped>\n",
       "    .dataframe tbody tr th:only-of-type {\n",
       "        vertical-align: middle;\n",
       "    }\n",
       "\n",
       "    .dataframe tbody tr th {\n",
       "        vertical-align: top;\n",
       "    }\n",
       "\n",
       "    .dataframe thead th {\n",
       "        text-align: right;\n",
       "    }\n",
       "</style>\n",
       "<table border=\"1\" class=\"dataframe\">\n",
       "  <thead>\n",
       "    <tr style=\"text-align: right;\">\n",
       "      <th></th>\n",
       "      <th>raw_data</th>\n",
       "    </tr>\n",
       "  </thead>\n",
       "  <tbody>\n",
       "    <tr>\n",
       "      <th>0</th>\n",
       "      <td>...</td>\n",
       "    </tr>\n",
       "    <tr>\n",
       "      <th>1</th>\n",
       "      <td>OF.DE TECNOLOG.DE LA INFOR.               EXA...</td>\n",
       "    </tr>\n",
       "    <tr>\n",
       "      <th>2</th>\n",
       "      <td>* AREA P.A.D.*                         ...</td>\n",
       "    </tr>\n",
       "    <tr>\n",
       "      <th>3</th>\n",
       "      <td>R...</td>\n",
       "    </tr>\n",
       "    <tr>\n",
       "      <th>4</th>\n",
       "      <td>=============================================...</td>\n",
       "    </tr>\n",
       "    <tr>\n",
       "      <th>5</th>\n",
       "      <td>OR-  CARNET      APELLIDOS  y  NOMBRES       ...</td>\n",
       "    </tr>\n",
       "    <tr>\n",
       "      <th>6</th>\n",
       "      <td>DEN                                          ...</td>\n",
       "    </tr>\n",
       "    <tr>\n",
       "      <th>7</th>\n",
       "      <td>=============================================...</td>\n",
       "    </tr>\n",
       "    <tr>\n",
       "      <th>8</th>\n",
       "      <td>0001 011373 CAMPOVERDE TERAN IDAM RICARDO    ...</td>\n",
       "    </tr>\n",
       "    <tr>\n",
       "      <th>9</th>\n",
       "      <td>0002 032565 LLANOS GRADOS ANDY JEYSON        ...</td>\n",
       "    </tr>\n",
       "    <tr>\n",
       "      <th>10</th>\n",
       "      <td>0003 020869 YUPANQUI AGUILAR VANERY BRIGITH  ...</td>\n",
       "    </tr>\n",
       "    <tr>\n",
       "      <th>11</th>\n",
       "      <td>0004 086632 GUZMAN CASTAÐEDA JIMENA BRIGIT   ...</td>\n",
       "    </tr>\n",
       "    <tr>\n",
       "      <th>12</th>\n",
       "      <td>0005 119118 FACCIO PAREDES KEILA SARA-       ...</td>\n",
       "    </tr>\n",
       "  </tbody>\n",
       "</table>\n",
       "</div>"
      ],
      "text/plain": [
       "                                             raw_data\n",
       "0                                                 ...\n",
       "1    OF.DE TECNOLOG.DE LA INFOR.               EXA...\n",
       "2          * AREA P.A.D.*                         ...\n",
       "3                                                R...\n",
       "4    =============================================...\n",
       "5    OR-  CARNET      APELLIDOS  y  NOMBRES       ...\n",
       "6    DEN                                          ...\n",
       "7    =============================================...\n",
       "8    0001 011373 CAMPOVERDE TERAN IDAM RICARDO    ...\n",
       "9    0002 032565 LLANOS GRADOS ANDY JEYSON        ...\n",
       "10   0003 020869 YUPANQUI AGUILAR VANERY BRIGITH  ...\n",
       "11   0004 086632 GUZMAN CASTAÐEDA JIMENA BRIGIT   ...\n",
       "12   0005 119118 FACCIO PAREDES KEILA SARA-       ..."
      ]
     },
     "execution_count": 2,
     "metadata": {},
     "output_type": "execute_result"
    }
   ],
   "source": [
    "url = \"https://unitru.edu.pe/webfiles///Convocatoria/2023/3//73_DOC_CONVO_240320230530.txt\"\n",
    "initial_data = get_initial_data(url)\n",
    "initial_data.head(13)"
   ]
  },
  {
   "cell_type": "markdown",
   "metadata": {},
   "source": [
    "## Get Heads"
   ]
  },
  {
   "cell_type": "code",
   "execution_count": 3,
   "metadata": {},
   "outputs": [
    {
     "data": {
      "text/plain": [
       "'UNIVERSIDAD NACIONAL DE TRUJILLO - UNT'"
      ]
     },
     "execution_count": 3,
     "metadata": {},
     "output_type": "execute_result"
    }
   ],
   "source": [
    "name_university,type_exam_and_place, third_row, fourth_row = get_heads(initial_data)\n",
    "name_university"
   ]
  },
  {
   "cell_type": "code",
   "execution_count": 4,
   "metadata": {},
   "outputs": [
    {
     "data": {
      "text/plain": [
       "'OF.DE TECNOLOG.DE LA INFOR. EXAMEN DE ADMISION ORDINARIO 2023-II - TRUJILLO Pag. 1'"
      ]
     },
     "execution_count": 4,
     "metadata": {},
     "output_type": "execute_result"
    }
   ],
   "source": [
    "type_exam_and_place"
   ]
  },
  {
   "cell_type": "code",
   "execution_count": 5,
   "metadata": {},
   "outputs": [
    {
     "data": {
      "text/plain": [
       "'* AREA P.A.D.* AREA : A 24/03/2023'"
      ]
     },
     "execution_count": 5,
     "metadata": {},
     "output_type": "execute_result"
    }
   ],
   "source": [
    "third_row"
   ]
  },
  {
   "cell_type": "code",
   "execution_count": 6,
   "metadata": {},
   "outputs": [
    {
     "data": {
      "text/plain": [
       "'RESULTADOS GENERALES POR ESCUELA PROFESIONAL'"
      ]
     },
     "execution_count": 6,
     "metadata": {},
     "output_type": "execute_result"
    }
   ],
   "source": [
    "fourth_row"
   ]
  },
  {
   "cell_type": "markdown",
   "metadata": {},
   "source": [
    "## Remove Extra Spaces"
   ]
  },
  {
   "cell_type": "code",
   "execution_count": 7,
   "metadata": {},
   "outputs": [
    {
     "data": {
      "text/plain": [
       "0    0001 011373 CAMPOVERDE TERAN IDAM RICARDO 39.6...\n",
       "1    0002 032565 LLANOS GRADOS ANDY JEYSON 57.993 4...\n",
       "2    0003 020869 YUPANQUI AGUILAR VANERY BRIGITH 35...\n",
       "3    0004 086632 GUZMAN CASTAÐEDA JIMENA BRIGIT 31....\n",
       "4    0005 119118 FACCIO PAREDES KEILA SARA- 28.478 ...\n",
       "Name: raw_data, dtype: object"
      ]
     },
     "execution_count": 7,
     "metadata": {},
     "output_type": "execute_result"
    }
   ],
   "source": [
    "without_extra_spaces = remove_extra_spaces(initial_data)\n",
    "without_extra_spaces.head(5)"
   ]
  },
  {
   "cell_type": "markdown",
   "metadata": {},
   "source": [
    "## Get Full Name"
   ]
  },
  {
   "cell_type": "code",
   "execution_count": 8,
   "metadata": {},
   "outputs": [
    {
     "data": {
      "text/plain": [
       "0       CAMPOVERDE TERAN IDAM RICARDO\n",
       "1           LLANOS GRADOS ANDY JEYSON\n",
       "2     YUPANQUI AGUILAR VANERY BRIGITH\n",
       "3      GUZMAN CASTAÐEDA JIMENA BRIGIT\n",
       "4          FACCIO PAREDES KEILA SARA-\n",
       "Name: 0, dtype: object"
      ]
     },
     "execution_count": 8,
     "metadata": {},
     "output_type": "execute_result"
    }
   ],
   "source": [
    "full_name = get_full_name(without_extra_spaces)\n",
    "full_name.head(5)"
   ]
  },
  {
   "cell_type": "markdown",
   "metadata": {},
   "source": [
    "## Get Grades"
   ]
  },
  {
   "cell_type": "code",
   "execution_count": 9,
   "metadata": {},
   "outputs": [
    {
     "data": {
      "text/html": [
       "<div>\n",
       "<style scoped>\n",
       "    .dataframe tbody tr th:only-of-type {\n",
       "        vertical-align: middle;\n",
       "    }\n",
       "\n",
       "    .dataframe tbody tr th {\n",
       "        vertical-align: top;\n",
       "    }\n",
       "\n",
       "    .dataframe thead th {\n",
       "        text-align: right;\n",
       "    }\n",
       "</style>\n",
       "<table border=\"1\" class=\"dataframe\">\n",
       "  <thead>\n",
       "    <tr style=\"text-align: right;\">\n",
       "      <th></th>\n",
       "      <th>0</th>\n",
       "      <th>1</th>\n",
       "      <th>2</th>\n",
       "    </tr>\n",
       "  </thead>\n",
       "  <tbody>\n",
       "    <tr>\n",
       "      <th>0</th>\n",
       "      <td>39.681</td>\n",
       "      <td>74.433</td>\n",
       "      <td>114.114</td>\n",
       "    </tr>\n",
       "    <tr>\n",
       "      <th>1</th>\n",
       "      <td>57.993</td>\n",
       "      <td>49.964</td>\n",
       "      <td>107.957</td>\n",
       "    </tr>\n",
       "    <tr>\n",
       "      <th>2</th>\n",
       "      <td>35.605</td>\n",
       "      <td>59.138</td>\n",
       "      <td>94.743</td>\n",
       "    </tr>\n",
       "    <tr>\n",
       "      <th>3</th>\n",
       "      <td>31.535</td>\n",
       "      <td>59.138</td>\n",
       "      <td>90.673</td>\n",
       "    </tr>\n",
       "    <tr>\n",
       "      <th>4</th>\n",
       "      <td>28.478</td>\n",
       "      <td>57.086</td>\n",
       "      <td>85.564</td>\n",
       "    </tr>\n",
       "  </tbody>\n",
       "</table>\n",
       "</div>"
      ],
      "text/plain": [
       "        0       1        2\n",
       "0  39.681  74.433  114.114\n",
       "1  57.993  49.964  107.957\n",
       "2  35.605  59.138   94.743\n",
       "3  31.535  59.138   90.673\n",
       "4  28.478  57.086   85.564"
      ]
     },
     "execution_count": 9,
     "metadata": {},
     "output_type": "execute_result"
    }
   ],
   "source": [
    "grades = get_grades(without_extra_spaces)\n",
    "grades.head(5)"
   ]
  },
  {
   "cell_type": "markdown",
   "metadata": {},
   "source": [
    "## Get School and Details"
   ]
  },
  {
   "cell_type": "code",
   "execution_count": 10,
   "metadata": {},
   "outputs": [
    {
     "data": {
      "text/plain": [
       "0    CCAS.BIOLOGICAS INGRESA 1\n",
       "1    CCAS.BIOLOGICAS INGRESA 1\n",
       "2    CCAS.BIOLOGICAS INGRESA 1\n",
       "3    CCAS.BIOLOGICAS INGRESA 1\n",
       "4    CCAS.BIOLOGICAS INGRESA 1\n",
       "Name: 0, dtype: object"
      ]
     },
     "execution_count": 10,
     "metadata": {},
     "output_type": "execute_result"
    }
   ],
   "source": [
    "school_and_details = get_school_and_details(without_extra_spaces)\n",
    "school_and_details.head(5)"
   ]
  },
  {
   "cell_type": "markdown",
   "metadata": {},
   "source": [
    "## Get Details"
   ]
  },
  {
   "cell_type": "code",
   "execution_count": 11,
   "metadata": {},
   "outputs": [
    {
     "data": {
      "text/plain": [
       "0    INGRESA\n",
       "1    INGRESA\n",
       "2    INGRESA\n",
       "3    INGRESA\n",
       "4    INGRESA\n",
       "Name: 0, dtype: object"
      ]
     },
     "execution_count": 11,
     "metadata": {},
     "output_type": "execute_result"
    }
   ],
   "source": [
    "details = get_details(school_and_details)\n",
    "details.head(5)"
   ]
  },
  {
   "cell_type": "markdown",
   "metadata": {},
   "source": [
    "## Get School"
   ]
  },
  {
   "cell_type": "code",
   "execution_count": 12,
   "metadata": {},
   "outputs": [
    {
     "data": {
      "text/plain": [
       "0    CCAS.BIOLOGICAS \n",
       "1    CCAS.BIOLOGICAS \n",
       "2    CCAS.BIOLOGICAS \n",
       "3    CCAS.BIOLOGICAS \n",
       "4    CCAS.BIOLOGICAS \n",
       "Name: 0, dtype: object"
      ]
     },
     "execution_count": 12,
     "metadata": {},
     "output_type": "execute_result"
    }
   ],
   "source": [
    "school = get_school(school_and_details)\n",
    "school.head(5)"
   ]
  },
  {
   "cell_type": "markdown",
   "metadata": {},
   "source": [
    "## Join Data"
   ]
  },
  {
   "cell_type": "code",
   "execution_count": 13,
   "metadata": {},
   "outputs": [
    {
     "data": {
      "text/html": [
       "<div>\n",
       "<style scoped>\n",
       "    .dataframe tbody tr th:only-of-type {\n",
       "        vertical-align: middle;\n",
       "    }\n",
       "\n",
       "    .dataframe tbody tr th {\n",
       "        vertical-align: top;\n",
       "    }\n",
       "\n",
       "    .dataframe thead th {\n",
       "        text-align: right;\n",
       "    }\n",
       "</style>\n",
       "<table border=\"1\" class=\"dataframe\">\n",
       "  <thead>\n",
       "    <tr style=\"text-align: right;\">\n",
       "      <th></th>\n",
       "      <th>nombres</th>\n",
       "      <th>result_1</th>\n",
       "      <th>result_2</th>\n",
       "      <th>total</th>\n",
       "      <th>escuela</th>\n",
       "      <th>observacion</th>\n",
       "      <th>universidad</th>\n",
       "      <th>tipo_y_lugar</th>\n",
       "      <th>third_row</th>\n",
       "      <th>fourth_row</th>\n",
       "    </tr>\n",
       "  </thead>\n",
       "  <tbody>\n",
       "    <tr>\n",
       "      <th>0</th>\n",
       "      <td>CAMPOVERDE TERAN IDAM RICARDO</td>\n",
       "      <td>39.681</td>\n",
       "      <td>74.433</td>\n",
       "      <td>114.114</td>\n",
       "      <td>CCAS.BIOLOGICAS</td>\n",
       "      <td>INGRESA</td>\n",
       "      <td>UNIVERSIDAD NACIONAL DE TRUJILLO - UNT</td>\n",
       "      <td>OF.DE TECNOLOG.DE LA INFOR. EXAMEN DE ADMISION...</td>\n",
       "      <td>* AREA P.A.D.* AREA : A 24/03/2023</td>\n",
       "      <td>RESULTADOS GENERALES POR ESCUELA PROFESIONAL</td>\n",
       "    </tr>\n",
       "    <tr>\n",
       "      <th>1</th>\n",
       "      <td>LLANOS GRADOS ANDY JEYSON</td>\n",
       "      <td>57.993</td>\n",
       "      <td>49.964</td>\n",
       "      <td>107.957</td>\n",
       "      <td>CCAS.BIOLOGICAS</td>\n",
       "      <td>INGRESA</td>\n",
       "      <td>UNIVERSIDAD NACIONAL DE TRUJILLO - UNT</td>\n",
       "      <td>OF.DE TECNOLOG.DE LA INFOR. EXAMEN DE ADMISION...</td>\n",
       "      <td>* AREA P.A.D.* AREA : A 24/03/2023</td>\n",
       "      <td>RESULTADOS GENERALES POR ESCUELA PROFESIONAL</td>\n",
       "    </tr>\n",
       "    <tr>\n",
       "      <th>2</th>\n",
       "      <td>YUPANQUI AGUILAR VANERY BRIGITH</td>\n",
       "      <td>35.605</td>\n",
       "      <td>59.138</td>\n",
       "      <td>94.743</td>\n",
       "      <td>CCAS.BIOLOGICAS</td>\n",
       "      <td>INGRESA</td>\n",
       "      <td>UNIVERSIDAD NACIONAL DE TRUJILLO - UNT</td>\n",
       "      <td>OF.DE TECNOLOG.DE LA INFOR. EXAMEN DE ADMISION...</td>\n",
       "      <td>* AREA P.A.D.* AREA : A 24/03/2023</td>\n",
       "      <td>RESULTADOS GENERALES POR ESCUELA PROFESIONAL</td>\n",
       "    </tr>\n",
       "    <tr>\n",
       "      <th>3</th>\n",
       "      <td>GUZMAN CASTAÐEDA JIMENA BRIGIT</td>\n",
       "      <td>31.535</td>\n",
       "      <td>59.138</td>\n",
       "      <td>90.673</td>\n",
       "      <td>CCAS.BIOLOGICAS</td>\n",
       "      <td>INGRESA</td>\n",
       "      <td>UNIVERSIDAD NACIONAL DE TRUJILLO - UNT</td>\n",
       "      <td>OF.DE TECNOLOG.DE LA INFOR. EXAMEN DE ADMISION...</td>\n",
       "      <td>* AREA P.A.D.* AREA : A 24/03/2023</td>\n",
       "      <td>RESULTADOS GENERALES POR ESCUELA PROFESIONAL</td>\n",
       "    </tr>\n",
       "    <tr>\n",
       "      <th>4</th>\n",
       "      <td>FACCIO PAREDES KEILA SARA-</td>\n",
       "      <td>28.478</td>\n",
       "      <td>57.086</td>\n",
       "      <td>85.564</td>\n",
       "      <td>CCAS.BIOLOGICAS</td>\n",
       "      <td>INGRESA</td>\n",
       "      <td>UNIVERSIDAD NACIONAL DE TRUJILLO - UNT</td>\n",
       "      <td>OF.DE TECNOLOG.DE LA INFOR. EXAMEN DE ADMISION...</td>\n",
       "      <td>* AREA P.A.D.* AREA : A 24/03/2023</td>\n",
       "      <td>RESULTADOS GENERALES POR ESCUELA PROFESIONAL</td>\n",
       "    </tr>\n",
       "  </tbody>\n",
       "</table>\n",
       "</div>"
      ],
      "text/plain": [
       "                            nombres result_1 result_2    total  \\\n",
       "0     CAMPOVERDE TERAN IDAM RICARDO   39.681   74.433  114.114   \n",
       "1         LLANOS GRADOS ANDY JEYSON   57.993   49.964  107.957   \n",
       "2   YUPANQUI AGUILAR VANERY BRIGITH   35.605   59.138   94.743   \n",
       "3    GUZMAN CASTAÐEDA JIMENA BRIGIT   31.535   59.138   90.673   \n",
       "4        FACCIO PAREDES KEILA SARA-   28.478   57.086   85.564   \n",
       "\n",
       "            escuela observacion                             universidad  \\\n",
       "0  CCAS.BIOLOGICAS      INGRESA  UNIVERSIDAD NACIONAL DE TRUJILLO - UNT   \n",
       "1  CCAS.BIOLOGICAS      INGRESA  UNIVERSIDAD NACIONAL DE TRUJILLO - UNT   \n",
       "2  CCAS.BIOLOGICAS      INGRESA  UNIVERSIDAD NACIONAL DE TRUJILLO - UNT   \n",
       "3  CCAS.BIOLOGICAS      INGRESA  UNIVERSIDAD NACIONAL DE TRUJILLO - UNT   \n",
       "4  CCAS.BIOLOGICAS      INGRESA  UNIVERSIDAD NACIONAL DE TRUJILLO - UNT   \n",
       "\n",
       "                                        tipo_y_lugar  \\\n",
       "0  OF.DE TECNOLOG.DE LA INFOR. EXAMEN DE ADMISION...   \n",
       "1  OF.DE TECNOLOG.DE LA INFOR. EXAMEN DE ADMISION...   \n",
       "2  OF.DE TECNOLOG.DE LA INFOR. EXAMEN DE ADMISION...   \n",
       "3  OF.DE TECNOLOG.DE LA INFOR. EXAMEN DE ADMISION...   \n",
       "4  OF.DE TECNOLOG.DE LA INFOR. EXAMEN DE ADMISION...   \n",
       "\n",
       "                            third_row  \\\n",
       "0  * AREA P.A.D.* AREA : A 24/03/2023   \n",
       "1  * AREA P.A.D.* AREA : A 24/03/2023   \n",
       "2  * AREA P.A.D.* AREA : A 24/03/2023   \n",
       "3  * AREA P.A.D.* AREA : A 24/03/2023   \n",
       "4  * AREA P.A.D.* AREA : A 24/03/2023   \n",
       "\n",
       "                                     fourth_row  \n",
       "0  RESULTADOS GENERALES POR ESCUELA PROFESIONAL  \n",
       "1  RESULTADOS GENERALES POR ESCUELA PROFESIONAL  \n",
       "2  RESULTADOS GENERALES POR ESCUELA PROFESIONAL  \n",
       "3  RESULTADOS GENERALES POR ESCUELA PROFESIONAL  \n",
       "4  RESULTADOS GENERALES POR ESCUELA PROFESIONAL  "
      ]
     },
     "execution_count": 13,
     "metadata": {},
     "output_type": "execute_result"
    }
   ],
   "source": [
    "joined_data = join_data(full_name, grades, school, details, name_university, type_exam_and_place, third_row, fourth_row)\n",
    "joined_data.head(5)"
   ]
  },
  {
   "cell_type": "markdown",
   "metadata": {},
   "source": [
    "## Join All Data"
   ]
  },
  {
   "cell_type": "code",
   "execution_count": 14,
   "metadata": {},
   "outputs": [
    {
     "data": {
      "text/html": [
       "<div>\n",
       "<style scoped>\n",
       "    .dataframe tbody tr th:only-of-type {\n",
       "        vertical-align: middle;\n",
       "    }\n",
       "\n",
       "    .dataframe tbody tr th {\n",
       "        vertical-align: top;\n",
       "    }\n",
       "\n",
       "    .dataframe thead th {\n",
       "        text-align: right;\n",
       "    }\n",
       "</style>\n",
       "<table border=\"1\" class=\"dataframe\">\n",
       "  <thead>\n",
       "    <tr style=\"text-align: right;\">\n",
       "      <th></th>\n",
       "      <th>nombres</th>\n",
       "      <th>result_1</th>\n",
       "      <th>result_2</th>\n",
       "      <th>total</th>\n",
       "      <th>escuela</th>\n",
       "      <th>observacion</th>\n",
       "      <th>universidad</th>\n",
       "      <th>tipo_y_lugar</th>\n",
       "      <th>third_row</th>\n",
       "      <th>fourth_row</th>\n",
       "    </tr>\n",
       "  </thead>\n",
       "  <tbody>\n",
       "    <tr>\n",
       "      <th>0</th>\n",
       "      <td>CAMPOVERDE TERAN IDAM RICARDO</td>\n",
       "      <td>39.681</td>\n",
       "      <td>74.433</td>\n",
       "      <td>114.114</td>\n",
       "      <td>CCAS.BIOLOGICAS</td>\n",
       "      <td>INGRESA</td>\n",
       "      <td>UNIVERSIDAD NACIONAL DE TRUJILLO - UNT</td>\n",
       "      <td>OF.DE TECNOLOG.DE LA INFOR. EXAMEN DE ADMISION...</td>\n",
       "      <td>* AREA P.A.D.* AREA : A 24/03/2023</td>\n",
       "      <td>RESULTADOS GENERALES POR ESCUELA PROFESIONAL</td>\n",
       "    </tr>\n",
       "    <tr>\n",
       "      <th>1</th>\n",
       "      <td>LLANOS GRADOS ANDY JEYSON</td>\n",
       "      <td>57.993</td>\n",
       "      <td>49.964</td>\n",
       "      <td>107.957</td>\n",
       "      <td>CCAS.BIOLOGICAS</td>\n",
       "      <td>INGRESA</td>\n",
       "      <td>UNIVERSIDAD NACIONAL DE TRUJILLO - UNT</td>\n",
       "      <td>OF.DE TECNOLOG.DE LA INFOR. EXAMEN DE ADMISION...</td>\n",
       "      <td>* AREA P.A.D.* AREA : A 24/03/2023</td>\n",
       "      <td>RESULTADOS GENERALES POR ESCUELA PROFESIONAL</td>\n",
       "    </tr>\n",
       "    <tr>\n",
       "      <th>2</th>\n",
       "      <td>YUPANQUI AGUILAR VANERY BRIGITH</td>\n",
       "      <td>35.605</td>\n",
       "      <td>59.138</td>\n",
       "      <td>94.743</td>\n",
       "      <td>CCAS.BIOLOGICAS</td>\n",
       "      <td>INGRESA</td>\n",
       "      <td>UNIVERSIDAD NACIONAL DE TRUJILLO - UNT</td>\n",
       "      <td>OF.DE TECNOLOG.DE LA INFOR. EXAMEN DE ADMISION...</td>\n",
       "      <td>* AREA P.A.D.* AREA : A 24/03/2023</td>\n",
       "      <td>RESULTADOS GENERALES POR ESCUELA PROFESIONAL</td>\n",
       "    </tr>\n",
       "  </tbody>\n",
       "</table>\n",
       "</div>"
      ],
      "text/plain": [
       "                            nombres result_1 result_2    total  \\\n",
       "0     CAMPOVERDE TERAN IDAM RICARDO   39.681   74.433  114.114   \n",
       "1         LLANOS GRADOS ANDY JEYSON   57.993   49.964  107.957   \n",
       "2   YUPANQUI AGUILAR VANERY BRIGITH   35.605   59.138   94.743   \n",
       "\n",
       "            escuela observacion                             universidad  \\\n",
       "0  CCAS.BIOLOGICAS      INGRESA  UNIVERSIDAD NACIONAL DE TRUJILLO - UNT   \n",
       "1  CCAS.BIOLOGICAS      INGRESA  UNIVERSIDAD NACIONAL DE TRUJILLO - UNT   \n",
       "2  CCAS.BIOLOGICAS      INGRESA  UNIVERSIDAD NACIONAL DE TRUJILLO - UNT   \n",
       "\n",
       "                                        tipo_y_lugar  \\\n",
       "0  OF.DE TECNOLOG.DE LA INFOR. EXAMEN DE ADMISION...   \n",
       "1  OF.DE TECNOLOG.DE LA INFOR. EXAMEN DE ADMISION...   \n",
       "2  OF.DE TECNOLOG.DE LA INFOR. EXAMEN DE ADMISION...   \n",
       "\n",
       "                            third_row  \\\n",
       "0  * AREA P.A.D.* AREA : A 24/03/2023   \n",
       "1  * AREA P.A.D.* AREA : A 24/03/2023   \n",
       "2  * AREA P.A.D.* AREA : A 24/03/2023   \n",
       "\n",
       "                                     fourth_row  \n",
       "0  RESULTADOS GENERALES POR ESCUELA PROFESIONAL  \n",
       "1  RESULTADOS GENERALES POR ESCUELA PROFESIONAL  \n",
       "2  RESULTADOS GENERALES POR ESCUELA PROFESIONAL  "
      ]
     },
     "execution_count": 14,
     "metadata": {},
     "output_type": "execute_result"
    }
   ],
   "source": [
    "url_2 = \"https://unitru.edu.pe/webfiles///Convocatoria/2023/9//87_DOC_CONVO_240920230904.txt\"\n",
    "urls = {\n",
    "        'url_1': url,\n",
    "        'url_2': url_2\n",
    "}\n",
    "\n",
    "final_result = join_all_data(urls)\n",
    "final_result.head(3)"
   ]
  },
  {
   "cell_type": "code",
   "execution_count": 17,
   "metadata": {},
   "outputs": [
    {
     "data": {
      "text/html": [
       "<div>\n",
       "<style scoped>\n",
       "    .dataframe tbody tr th:only-of-type {\n",
       "        vertical-align: middle;\n",
       "    }\n",
       "\n",
       "    .dataframe tbody tr th {\n",
       "        vertical-align: top;\n",
       "    }\n",
       "\n",
       "    .dataframe thead th {\n",
       "        text-align: right;\n",
       "    }\n",
       "</style>\n",
       "<table border=\"1\" class=\"dataframe\">\n",
       "  <thead>\n",
       "    <tr style=\"text-align: right;\">\n",
       "      <th></th>\n",
       "      <th>nombres</th>\n",
       "      <th>result_1</th>\n",
       "      <th>result_2</th>\n",
       "      <th>total</th>\n",
       "      <th>escuela</th>\n",
       "      <th>observacion</th>\n",
       "      <th>universidad</th>\n",
       "      <th>periodo</th>\n",
       "      <th>tipo_exam</th>\n",
       "      <th>tipo_postulante</th>\n",
       "      <th>sede</th>\n",
       "      <th>area</th>\n",
       "    </tr>\n",
       "  </thead>\n",
       "  <tbody>\n",
       "    <tr>\n",
       "      <th>0</th>\n",
       "      <td>CAMPOVERDE TERAN IDAM RICARDO</td>\n",
       "      <td>39.681</td>\n",
       "      <td>74.433</td>\n",
       "      <td>114.114</td>\n",
       "      <td>CCAS.BIOLOGICAS</td>\n",
       "      <td>INGRESA</td>\n",
       "      <td>UNIVERSIDAD NACIONAL DE TRUJILLO - UNT</td>\n",
       "      <td>2023-II</td>\n",
       "      <td>ORDINARIO</td>\n",
       "      <td>NaN</td>\n",
       "      <td>TRUJILLO</td>\n",
       "      <td>A</td>\n",
       "    </tr>\n",
       "    <tr>\n",
       "      <th>1</th>\n",
       "      <td>LLANOS GRADOS ANDY JEYSON</td>\n",
       "      <td>57.993</td>\n",
       "      <td>49.964</td>\n",
       "      <td>107.957</td>\n",
       "      <td>CCAS.BIOLOGICAS</td>\n",
       "      <td>INGRESA</td>\n",
       "      <td>UNIVERSIDAD NACIONAL DE TRUJILLO - UNT</td>\n",
       "      <td>2023-II</td>\n",
       "      <td>ORDINARIO</td>\n",
       "      <td>NaN</td>\n",
       "      <td>TRUJILLO</td>\n",
       "      <td>A</td>\n",
       "    </tr>\n",
       "    <tr>\n",
       "      <th>2</th>\n",
       "      <td>YUPANQUI AGUILAR VANERY BRIGITH</td>\n",
       "      <td>35.605</td>\n",
       "      <td>59.138</td>\n",
       "      <td>94.743</td>\n",
       "      <td>CCAS.BIOLOGICAS</td>\n",
       "      <td>INGRESA</td>\n",
       "      <td>UNIVERSIDAD NACIONAL DE TRUJILLO - UNT</td>\n",
       "      <td>2023-II</td>\n",
       "      <td>ORDINARIO</td>\n",
       "      <td>NaN</td>\n",
       "      <td>TRUJILLO</td>\n",
       "      <td>A</td>\n",
       "    </tr>\n",
       "    <tr>\n",
       "      <th>3</th>\n",
       "      <td>GUZMAN CASTAÐEDA JIMENA BRIGIT</td>\n",
       "      <td>31.535</td>\n",
       "      <td>59.138</td>\n",
       "      <td>90.673</td>\n",
       "      <td>CCAS.BIOLOGICAS</td>\n",
       "      <td>INGRESA</td>\n",
       "      <td>UNIVERSIDAD NACIONAL DE TRUJILLO - UNT</td>\n",
       "      <td>2023-II</td>\n",
       "      <td>ORDINARIO</td>\n",
       "      <td>NaN</td>\n",
       "      <td>TRUJILLO</td>\n",
       "      <td>A</td>\n",
       "    </tr>\n",
       "    <tr>\n",
       "      <th>4</th>\n",
       "      <td>FACCIO PAREDES KEILA SARA-</td>\n",
       "      <td>28.478</td>\n",
       "      <td>57.086</td>\n",
       "      <td>85.564</td>\n",
       "      <td>CCAS.BIOLOGICAS</td>\n",
       "      <td>INGRESA</td>\n",
       "      <td>UNIVERSIDAD NACIONAL DE TRUJILLO - UNT</td>\n",
       "      <td>2023-II</td>\n",
       "      <td>ORDINARIO</td>\n",
       "      <td>NaN</td>\n",
       "      <td>TRUJILLO</td>\n",
       "      <td>A</td>\n",
       "    </tr>\n",
       "  </tbody>\n",
       "</table>\n",
       "</div>"
      ],
      "text/plain": [
       "                            nombres result_1 result_2    total  \\\n",
       "0     CAMPOVERDE TERAN IDAM RICARDO   39.681   74.433  114.114   \n",
       "1         LLANOS GRADOS ANDY JEYSON   57.993   49.964  107.957   \n",
       "2   YUPANQUI AGUILAR VANERY BRIGITH   35.605   59.138   94.743   \n",
       "3    GUZMAN CASTAÐEDA JIMENA BRIGIT   31.535   59.138   90.673   \n",
       "4        FACCIO PAREDES KEILA SARA-   28.478   57.086   85.564   \n",
       "\n",
       "            escuela observacion                             universidad  \\\n",
       "0  CCAS.BIOLOGICAS      INGRESA  UNIVERSIDAD NACIONAL DE TRUJILLO - UNT   \n",
       "1  CCAS.BIOLOGICAS      INGRESA  UNIVERSIDAD NACIONAL DE TRUJILLO - UNT   \n",
       "2  CCAS.BIOLOGICAS      INGRESA  UNIVERSIDAD NACIONAL DE TRUJILLO - UNT   \n",
       "3  CCAS.BIOLOGICAS      INGRESA  UNIVERSIDAD NACIONAL DE TRUJILLO - UNT   \n",
       "4  CCAS.BIOLOGICAS      INGRESA  UNIVERSIDAD NACIONAL DE TRUJILLO - UNT   \n",
       "\n",
       "   periodo  tipo_exam tipo_postulante      sede area  \n",
       "0  2023-II  ORDINARIO             NaN  TRUJILLO    A  \n",
       "1  2023-II  ORDINARIO             NaN  TRUJILLO    A  \n",
       "2  2023-II  ORDINARIO             NaN  TRUJILLO    A  \n",
       "3  2023-II  ORDINARIO             NaN  TRUJILLO    A  \n",
       "4  2023-II  ORDINARIO             NaN  TRUJILLO    A  "
      ]
     },
     "execution_count": 17,
     "metadata": {},
     "output_type": "execute_result"
    }
   ],
   "source": [
    "summary = transform_4_last_columns(final_result)\n",
    "summary.head(5)"
   ]
  },
  {
   "cell_type": "code",
   "execution_count": 16,
   "metadata": {},
   "outputs": [
    {
     "data": {
      "text/html": [
       "<div>\n",
       "<style scoped>\n",
       "    .dataframe tbody tr th:only-of-type {\n",
       "        vertical-align: middle;\n",
       "    }\n",
       "\n",
       "    .dataframe tbody tr th {\n",
       "        vertical-align: top;\n",
       "    }\n",
       "\n",
       "    .dataframe thead th {\n",
       "        text-align: right;\n",
       "    }\n",
       "</style>\n",
       "<table border=\"1\" class=\"dataframe\">\n",
       "  <thead>\n",
       "    <tr style=\"text-align: right;\">\n",
       "      <th></th>\n",
       "      <th>nombres</th>\n",
       "      <th>result_1</th>\n",
       "      <th>result_2</th>\n",
       "      <th>total</th>\n",
       "      <th>escuela</th>\n",
       "      <th>observacion</th>\n",
       "      <th>universidad</th>\n",
       "      <th>periodo</th>\n",
       "      <th>tipo_exam</th>\n",
       "      <th>tipo_postulante</th>\n",
       "      <th>sede</th>\n",
       "      <th>area</th>\n",
       "    </tr>\n",
       "  </thead>\n",
       "  <tbody>\n",
       "    <tr>\n",
       "      <th>2946</th>\n",
       "      <td>RODRIGUEZ FRANCISCO ITALO JOSE</td>\n",
       "      <td>39.675</td>\n",
       "      <td>44.849</td>\n",
       "      <td>84.524</td>\n",
       "      <td>ED.SEC: HISTORIA</td>\n",
       "      <td>NO INGRESA</td>\n",
       "      <td>UNIVERSIDAD NACIONAL DE TRUJILLO - UNT</td>\n",
       "      <td>2024-I</td>\n",
       "      <td>ORDINARIO</td>\n",
       "      <td>QUINTO_GRADO</td>\n",
       "      <td></td>\n",
       "      <td>B-C</td>\n",
       "    </tr>\n",
       "    <tr>\n",
       "      <th>2947</th>\n",
       "      <td>SABINO SALINAS ANALY MAYUMI</td>\n",
       "      <td>27.465</td>\n",
       "      <td>23.443</td>\n",
       "      <td>50.908</td>\n",
       "      <td>ED.SEC: HISTORIA</td>\n",
       "      <td>NO INGRESA</td>\n",
       "      <td>UNIVERSIDAD NACIONAL DE TRUJILLO - UNT</td>\n",
       "      <td>2024-I</td>\n",
       "      <td>ORDINARIO</td>\n",
       "      <td>QUINTO_GRADO</td>\n",
       "      <td></td>\n",
       "      <td>B-C</td>\n",
       "    </tr>\n",
       "    <tr>\n",
       "      <th>2948</th>\n",
       "      <td>LAVADO VASQUEZ NICOLE STEPHANIE</td>\n",
       "      <td>35.605</td>\n",
       "      <td>9.154</td>\n",
       "      <td>44.759</td>\n",
       "      <td>ED.SEC: HISTORIA</td>\n",
       "      <td>NO INGRESA</td>\n",
       "      <td>UNIVERSIDAD NACIONAL DE TRUJILLO - UNT</td>\n",
       "      <td>2024-I</td>\n",
       "      <td>ORDINARIO</td>\n",
       "      <td>QUINTO_GRADO</td>\n",
       "      <td></td>\n",
       "      <td>B-C</td>\n",
       "    </tr>\n",
       "    <tr>\n",
       "      <th>2949</th>\n",
       "      <td>TERRONES MENDOZA SOFIA EMPERATRIZ</td>\n",
       "      <td>14.242</td>\n",
       "      <td>27.522</td>\n",
       "      <td>41.764</td>\n",
       "      <td>ED.SEC: HISTORIA</td>\n",
       "      <td>NO INGRESA</td>\n",
       "      <td>UNIVERSIDAD NACIONAL DE TRUJILLO - UNT</td>\n",
       "      <td>2024-I</td>\n",
       "      <td>ORDINARIO</td>\n",
       "      <td>QUINTO_GRADO</td>\n",
       "      <td></td>\n",
       "      <td>B-C</td>\n",
       "    </tr>\n",
       "    <tr>\n",
       "      <th>2950</th>\n",
       "      <td>LAZARO PANTA JOEL DAVID</td>\n",
       "      <td>10.166</td>\n",
       "      <td>30.570</td>\n",
       "      <td>40.736</td>\n",
       "      <td>ED.SEC: HISTORIA</td>\n",
       "      <td>NO INGRESA</td>\n",
       "      <td>UNIVERSIDAD NACIONAL DE TRUJILLO - UNT</td>\n",
       "      <td>2024-I</td>\n",
       "      <td>ORDINARIO</td>\n",
       "      <td>QUINTO_GRADO</td>\n",
       "      <td></td>\n",
       "      <td>B-C</td>\n",
       "    </tr>\n",
       "  </tbody>\n",
       "</table>\n",
       "</div>"
      ],
      "text/plain": [
       "                                nombres result_1 result_2   total  \\\n",
       "2946     RODRIGUEZ FRANCISCO ITALO JOSE   39.675   44.849  84.524   \n",
       "2947        SABINO SALINAS ANALY MAYUMI   27.465   23.443  50.908   \n",
       "2948    LAVADO VASQUEZ NICOLE STEPHANIE   35.605    9.154  44.759   \n",
       "2949  TERRONES MENDOZA SOFIA EMPERATRIZ   14.242   27.522  41.764   \n",
       "2950            LAZARO PANTA JOEL DAVID   10.166   30.570  40.736   \n",
       "\n",
       "               escuela observacion                             universidad  \\\n",
       "2946  ED.SEC: HISTORIA  NO INGRESA  UNIVERSIDAD NACIONAL DE TRUJILLO - UNT   \n",
       "2947  ED.SEC: HISTORIA  NO INGRESA  UNIVERSIDAD NACIONAL DE TRUJILLO - UNT   \n",
       "2948  ED.SEC: HISTORIA  NO INGRESA  UNIVERSIDAD NACIONAL DE TRUJILLO - UNT   \n",
       "2949  ED.SEC: HISTORIA  NO INGRESA  UNIVERSIDAD NACIONAL DE TRUJILLO - UNT   \n",
       "2950  ED.SEC: HISTORIA  NO INGRESA  UNIVERSIDAD NACIONAL DE TRUJILLO - UNT   \n",
       "\n",
       "     periodo  tipo_exam tipo_postulante sede area  \n",
       "2946  2024-I  ORDINARIO    QUINTO_GRADO       B-C  \n",
       "2947  2024-I  ORDINARIO    QUINTO_GRADO       B-C  \n",
       "2948  2024-I  ORDINARIO    QUINTO_GRADO       B-C  \n",
       "2949  2024-I  ORDINARIO    QUINTO_GRADO       B-C  \n",
       "2950  2024-I  ORDINARIO    QUINTO_GRADO       B-C  "
      ]
     },
     "execution_count": 16,
     "metadata": {},
     "output_type": "execute_result"
    }
   ],
   "source": [
    "summary = cleaning_summary(summary)\n",
    "summary.tail(5)"
   ]
  },
  {
   "cell_type": "code",
   "execution_count": null,
   "metadata": {},
   "outputs": [],
   "source": []
  }
 ],
 "metadata": {
  "kernelspec": {
   "display_name": "myenv",
   "language": "python",
   "name": "python3"
  },
  "language_info": {
   "codemirror_mode": {
    "name": "ipython",
    "version": 3
   },
   "file_extension": ".py",
   "mimetype": "text/x-python",
   "name": "python",
   "nbconvert_exporter": "python",
   "pygments_lexer": "ipython3",
   "version": "3.1.0"
  }
 },
 "nbformat": 4,
 "nbformat_minor": 2
}
